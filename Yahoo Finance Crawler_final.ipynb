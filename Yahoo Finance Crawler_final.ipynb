{
 "cells": [
  {
   "cell_type": "markdown",
   "metadata": {},
   "source": [
    "Import all necessary libraries:"
   ]
  },
  {
   "cell_type": "code",
   "execution_count": 2,
   "metadata": {},
   "outputs": [],
   "source": [
    "import requests\n",
    "from bs4 import BeautifulSoup\n",
    "import pandas as pd\n",
    "from pandas import ExcelWriter"
   ]
  },
  {
   "cell_type": "markdown",
   "metadata": {},
   "source": [
    "Set up the crawler:"
   ]
  },
  {
   "cell_type": "code",
   "execution_count": 3,
   "metadata": {},
   "outputs": [
    {
     "name": "stdout",
     "output_type": "stream",
     "text": [
      "['Breakdown', 'ttm', '6/30/2019', '6/30/2018', '6/30/2017']\n",
      "[['Total Revenue', '138,699,000', '125,843,000', '110,360,000', '89,950,000'], ['Cost of Revenue', '44,151,000', '42,910,000', '38,353,000', '34,261,000'], ['Gross Profit', '94,548,000', '82,933,000', '72,007,000', '55,689,000']]\n",
      "['Breakdown', '6/30/2019', '6/30/2018', '6/30/2017']\n",
      "[['Total Assets', '286,556,000', '258,848,000', '241,086,000'], ['Total Liabilities Net Minority Interest', '184,226,000', '176,130,000', '168,692,000'], ['Total Equity Gross Minority Interest', '102,330,000', '82,718,000', '72,394,000']]\n",
      "['Breakdown', 'ttm', '6/30/2019', '6/30/2018', '6/30/2017']\n",
      "[['Operating Cash Flow', '58,110,000', '52,185,000', '43,884,000', '39,507,000'], ['Investing Cash Flow', '-15,018,000', '-15,773,000', '-6,061,000', '-46,781,000'], ['Financing Cash Flow', '-42,455,000', '-36,887,000', '-33,590,000', '8,408,000']]\n"
     ]
    }
   ],
   "source": [
    "ticker = \"MSFT\" #important! use company ticker from yahoo finance here!\n",
    "file_name = ticker + \".xlsx\"\n",
    "vfe = [\"/financials?p=\", \"/balance-sheet?p=\", \"/cash-flow?p=\"]\n",
    "df_list = []\n",
    "\n",
    "base_url = \"https://finance.yahoo.com/quote/\"\n",
    "urls = []\n",
    "\n",
    "for statement in vfe:\n",
    "    urls.append(base_url + ticker + statement + ticker)\n",
    "        \n",
    "for url in urls: #loop to get all financial data (BS, P&L, CF)\n",
    "    page = requests.get(url)\n",
    "    doc = BeautifulSoup(page.text, \"html.parser\")\n",
    "    \n",
    "    features = doc.find_all('div', class_='D(tbr)') #returns a list\n",
    "    #print(features[0]) \n",
    "    #'div', class_='D(tbr)' is the class containing all other classes / data in each row (i.e. the overarching class)\n",
    "    #features[0] = all data from first row; first row = header-row\n",
    "    \n",
    "    headers = []\n",
    "\n",
    "    for item in features[0].find_all('div', class_='D(ib)'): #features[0] contains all data from first row; first row = header row\n",
    "        headers.append(item.text)\n",
    "    \n",
    "    print(headers)\n",
    "    \n",
    "    index = 1 #start with second row since we already have data from header row\n",
    "    data = []\n",
    "    final = []\n",
    "    while index <= len(features)-1:\n",
    "    \n",
    "        for item in features[index].find_all('div', class_='D(ib)'): #finds and extracts the label of each row\n",
    "            data.append(item.text)\n",
    "        for item in features[index].find_all('div', class_='Ta(c)'): #finds and extracts the data in each row\n",
    "            data.append(item.text)\n",
    "    \n",
    "        final.append(data) # final has a lists-in-list structure (allows for easy transformation to pd.DataFrame)\n",
    "        data = [] # clear data list after each row (i.e. after each features[index])\n",
    "        index+=1\n",
    "    print(final[:3]) #to check if the data from each statement is crawled correctly\n",
    "    \n",
    "    df = pd.DataFrame(final) #convert list 'final' to df\n",
    "    df.columns = headers #specifiy column labels\n",
    "    df.set_index('Breakdown') #set Breakdown column to be the index\n",
    "    \n",
    "    #function to make all values numerical\n",
    "    def convert_to_numeric(column): #functions works as follows: a column is passed to the function and then firstly \",\" gets replaced, secondly \"-\" gets replaced\n",
    "        first_col = [i.replace(',','') for i in column] #without replacing the comma, pd.to_numeric() returns an error\n",
    "        second_col = [i.replace('-','') for i in first_col]\n",
    "        final_col = pd.to_numeric(second_col)\n",
    "\n",
    "        return final_col\n",
    "\n",
    "    for column in headers[1:]: #1: because we do not want to convert Breakdown column\n",
    "        df[column] = convert_to_numeric(df[column])\n",
    "        \n",
    "    df_list.append(df)\n",
    "    \n",
    "with pd.ExcelWriter(file_name) as writer:\n",
    "    for n, df in enumerate(df_list): #\n",
    "        df.to_excel(writer, 'sheet%s' % str(n + 1), index=False) # use n from for loop here, otherwise each sheet will be the same\n",
    "    writer.save()\n",
    "            "
   ]
  },
  {
   "cell_type": "code",
   "execution_count": null,
   "metadata": {},
   "outputs": [],
   "source": []
  }
 ],
 "metadata": {
  "kernelspec": {
   "display_name": "Python 3",
   "language": "python",
   "name": "python3"
  },
  "language_info": {
   "codemirror_mode": {
    "name": "ipython",
    "version": 3
   },
   "file_extension": ".py",
   "mimetype": "text/x-python",
   "name": "python",
   "nbconvert_exporter": "python",
   "pygments_lexer": "ipython3",
   "version": "3.7.3"
  }
 },
 "nbformat": 4,
 "nbformat_minor": 2
}
