{
 "cells": [
  {
   "cell_type": "markdown",
   "metadata": {},
   "source": [
    "Import all necessary libraries:"
   ]
  },
  {
   "cell_type": "code",
   "execution_count": 2,
   "metadata": {},
   "outputs": [],
   "source": [
    "import requests\n",
    "from bs4 import BeautifulSoup\n",
    "import pandas as pd\n",
    "from pandas import ExcelWriter"
   ]
  },
  {
   "cell_type": "markdown",
   "metadata": {},
   "source": [
    "Set up the crawler:"
   ]
  },
  {
   "cell_type": "code",
   "execution_count": 3,
   "metadata": {},
   "outputs": [
    {
     "name": "stdout",
     "output_type": "stream",
     "text": [
      "['Breakdown', 'ttm', '12/31/2019', '12/31/2018', '12/31/2017', '12/31/2016']\n",
      "[['Total Revenue', '60,473,000', '59,316,000', '62,675,000', '64,475,000', '57,550,000'], ['Cost of Revenue', '44,360,000', '43,061,000', '44,319,000', '43,929,000', '39,265,000'], ['Gross Profit', '16,113,000', '16,255,000', '18,356,000', '20,546,000', '18,285,000']]\n",
      "['Breakdown', '12/31/2019', '12/31/2018', '12/31/2017', '12/31/2016']\n",
      "[['Total Assets', '86,950,000', '86,556,000', '78,768,000', '76,496,000'], ['Total Liabilities Net Minority Interest', '44,600,000', '50,447,000', '44,012,000', '43,928,000'], ['Total Equity Gross Minority Interest', '42,350,000', '36,109,000', '34,756,000', '32,568,000']]\n",
      "['Breakdown', 'ttm', '12/31/2019', '12/31/2018', '12/31/2017', '12/31/2016']\n",
      "[['Operating Cash Flow', '6,071,000', '7,474,000', '7,939,000', '8,785,000', '7,717,000'], ['Investing Cash Flow', '-2,173,000', '-1,190,000', '-11,804,000', '-3,958,000', '-6,490,000'], ['Financing Cash Flow', '-2,731,000', '-6,405,000', '-52,000', '394,000', '-2,160,000']]\n"
     ]
    }
   ],
   "source": [
    "ticker = \"BAS.DE\" #important! use company ticker from yahoo finance here!\n",
    "file_name = ticker + \".xlsx\"\n",
    "vfe = [\"/financials?p=\", \"/balance-sheet?p=\", \"/cash-flow?p=\"]\n",
    "df_list = []\n",
    "\n",
    "base_url = \"https://finance.yahoo.com/quote/\"\n",
    "urls = []\n",
    "\n",
    "for statement in vfe:\n",
    "    urls.append(base_url + ticker + statement + ticker)\n",
    "        \n",
    "for url in urls: #loop to get all financial data (BS, P&L, CF)\n",
    "    page = requests.get(url)\n",
    "    doc = BeautifulSoup(page.text, \"html.parser\")\n",
    "    \n",
    "    features = doc.find_all('div', class_='D(tbr)') #returns a list\n",
    "    #print(features[0]) \n",
    "    #'div', class_='D(tbr)' is the class containing all other classes / data in each row (i.e. the overarching class)\n",
    "    #features[0] = all data from first row; first row = header-row\n",
    "    \n",
    "    headers = []\n",
    "\n",
    "    for item in features[0].find_all('div', class_='D(ib)'): #features[0] contains all data from first row; first row = header row\n",
    "        headers.append(item.text)\n",
    "    \n",
    "    print(headers)\n",
    "    \n",
    "    index = 1 #start with second row since we already have data from header row\n",
    "    data = []\n",
    "    final = []\n",
    "    while index <= len(features)-1:\n",
    "    \n",
    "        for item in features[index].find_all('div', class_='D(ib)'): #finds and extracts the label of each row\n",
    "            data.append(item.text)\n",
    "        for item in features[index].find_all('div', class_='Ta(c)'): #finds and extracts the data in each row\n",
    "            data.append(item.text)\n",
    "    \n",
    "        final.append(data) # final has a lists-in-list structure (allows for easy transformation to pd.DataFrame)\n",
    "        data = [] # clear data list after each row (i.e. after each features[index])\n",
    "        index+=1\n",
    "    print(final[:3]) #to check if the data from each statement is crawled correctly\n",
    "    \n",
    "    df = pd.DataFrame(final) #convert list 'final' to df\n",
    "    df.columns = headers #specifiy column labels\n",
    "    df.head()\n",
    "    df.set_index('Breakdown') #set Breakdown column to be the index\n",
    "    \n",
    "    #function to make all values numerical\n",
    "    def convert_to_numeric(column): #functions works as follows: a column is passed to the function and then firstly \",\" gets replace, secondly \"-\" gets replaced\n",
    "        first_col = [i.replace(',','') for i in column] #without replacing the comma, pd.to_numeric() returns an error\n",
    "        second_col = [i.replace('-','') for i in first_col]\n",
    "        final_col = pd.to_numeric(second_col)\n",
    "\n",
    "        return final_col\n",
    "\n",
    "    for column in headers[1:]: #1: because we do not want to convert Breakdown column\n",
    "        df[column] = convert_to_numeric(df[column])\n",
    "        \n",
    "    df_list.append(df)\n",
    "    \n",
    "with pd.ExcelWriter(file_name) as writer:\n",
    "    for n, df in enumerate(df_list): #\n",
    "        df.to_excel(writer, 'sheet%s' % str(n + 1), index=False) # use n from for loop here, otherwise each sheet will be the same\n",
    "    writer.save()\n",
    "            "
   ]
  },
  {
   "cell_type": "code",
   "execution_count": null,
   "metadata": {},
   "outputs": [],
   "source": []
  }
 ],
 "metadata": {
  "kernelspec": {
   "display_name": "Python 3",
   "language": "python",
   "name": "python3"
  },
  "language_info": {
   "codemirror_mode": {
    "name": "ipython",
    "version": 3
   },
   "file_extension": ".py",
   "mimetype": "text/x-python",
   "name": "python",
   "nbconvert_exporter": "python",
   "pygments_lexer": "ipython3",
   "version": "3.7.3"
  }
 },
 "nbformat": 4,
 "nbformat_minor": 2
}
